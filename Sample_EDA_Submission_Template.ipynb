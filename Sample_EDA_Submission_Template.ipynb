{
  "nbformat": 4,
  "nbformat_minor": 0,
  "metadata": {
    "colab": {
      "private_outputs": true,
      "provenance": [],
      "collapsed_sections": [
        "PH-0ReGfmX4f",
        "mDgbUHAGgjLW",
        "-JiQyfWJYklI",
        "fge-S5ZAYoAp",
        "85gYPyotYoAp",
        "RoGjAbkUYoAp",
        "iky9q4vBYrdO",
        "F6T5p64dYrdO",
        "y-Ehk30pYrdP",
        "QHF8YVU7Yuh3",
        "GwzvFGzlYuh3",
        "qYpmQ266Yuh3",
        "bbFf2-_FphqN",
        "_ouA3fa0phqN",
        "Seke61FWphqN",
        "t27r6nlMphqO",
        "r2jJGEOYphqO",
        "b0JNsNcRphqO",
        "jj7wYXLtphqO",
        "eZrbJ2SmphqO",
        "rFu4xreNphqO",
        "gCFgpxoyphqP",
        "OVtJsKN_phqQ",
        "lssrdh5qphqQ",
        "1M8mcRywphqQ",
        "tgIPom80phqQ",
        "JMzcOPDDphqR",
        "X_VqEhTip1ck",
        "8zGJKyg5p1ck",
        "PVzmfK_Ep1ck",
        "ylSl6qgtp1ck",
        "ZWILFDl5p1ck",
        "M7G43BXep1ck",
        "E6MkPsBcp1cl",
        "2cELzS2fp1cl",
        "3MPXvC8up1cl",
        "UV0SzAkaZNRQ",
        "YPEH6qLeZNRQ",
        "EXh0U9oCveiU",
        "22aHeOlLveiV",
        "JcMwzZxoAimU",
        "8G2x9gOozGDZ",
        "gCX9965dhzqZ",
        "gIfDvo9L0UH2"
      ]
    },
    "kernelspec": {
      "name": "python3",
      "display_name": "Python 3"
    },
    "language_info": {
      "name": "python"
    }
  },
  "cells": [
    {
      "cell_type": "markdown",
      "source": [
        "# **Project Name**    - FedEx Delivery Performance Analysis using EDA\n",
        "\n"
      ],
      "metadata": {
        "id": "vncDsAP0Gaoa"
      }
    },
    {
      "cell_type": "markdown",
      "source": [
        "##### **Project Type**    - Exploratory Data Analysis (EDA)\n",
        "\n",
        "\n",
        "---\n",
        "\n",
        "\n",
        "##### **Contribution**    - Individual\n"
      ],
      "metadata": {
        "id": "beRrZCGUAJYm"
      }
    },
    {
      "cell_type": "markdown",
      "source": [
        "# **Project Summary -**"
      ],
      "metadata": {
        "id": "FJNUwmbgGyua"
      }
    },
    {
      "cell_type": "markdown",
      "source": [
        "This project, titled \"FedEx\", focuses on performing Exploratory Data Analysis (EDA) on SCMS delivery history data using Google Colab. The primary goal of the analysis was to understand the key patterns and relationships between different variables that influence the shipment and delivery performance of FedEx. By leveraging Python libraries such as Pandas, Seaborn, Matplotlib, NumPy, and Plotly, a total of 15 interactive and static visualizations were created to uncover business insights and support data-driven decision-making.\n",
        "\n",
        "The dataset includes fields such as delivery dates, shipment modes, freight costs, product classifications, weight, vendor details, and financial metrics like line item value and insurance. Initially, the data underwent cleaning and preprocessing, including the conversion of relevant columns to numeric formats and handling of missing or inconsistent values (e.g., \"Weight Captured Separately\"). This step ensured that the dataset was ready for meaningful statistical analysis and visualization.\n",
        "\n",
        "Among the visualizations created, a Pair Plot played a crucial role in identifying correlations and patterns among multiple numeric variables such as Line Item Quantity, Value, Pack Price, Unit Price, Freight Cost, and Weight. The pair plot helped visually assess which variables move together and identify potential outliers. For instance, a positive correlation was observed between Line Item Quantity and Line Item Value, which confirms that larger shipments typically bring higher value. Similarly, Freight Cost increased with Weight, highlighting the direct relationship between package weight and shipping cost.\n",
        "\n",
        "Another significant visualization was the Correlation Heatmap, which numerically and visually represented the strength of relationships between variables. This allowed easy identification of strongly and weakly correlated features, aiding in understanding operational dependencies.\n",
        "\n",
        "Visual storytelling using bar charts, line charts, pie charts, and distribution plots further revealed trends such as the most used shipment modes, most frequent vendors, top product categories, and delivery timelines. Time-series visualizations also revealed seasonal or time-bound patterns in delivery delays and costs.\n",
        "\n",
        "These insights carry positive business implications. For example, by identifying products or vendors associated with high freight costs or delays, the logistics team can take targeted actions such as negotiating better terms, optimizing shipment routes, or reconsidering vendor relationships. Additionally, aligning the pricing strategy by understanding pack and unit price correlations ensures accurate cost estimations and profitability.\n",
        "\n",
        "On the other hand, certain findings highlighted areas of potential negative growth, such as high freight costs for low-value shipments or inconsistent insurance costs. These trends suggest inefficiencies that could reduce margins if left unaddressed. The analysis thus encourages proactive intervention to minimize waste and maximize operational efficiency.\n",
        "\n",
        "In conclusion, this project successfully demonstrates the power of EDA and data visualization in extracting actionable insights from complex delivery data. It not only supports better logistical planning and vendor management but also drives strategic decisions to enhance overall business performance. Through thoughtful storytelling and visual experimentation, this analysis provides a strong foundation for continuous improvement in FedEx's delivery operations.\n",
        "\n"
      ],
      "metadata": {
        "id": "F6v_1wHtG2nS"
      }
    },
    {
      "cell_type": "markdown",
      "source": [
        "# **GitHub Link -**"
      ],
      "metadata": {
        "id": "w6K7xa23Elo4"
      }
    },
    {
      "cell_type": "markdown",
      "source": [
        "*Provide* your GitHub Link here."
      ],
      "metadata": {
        "id": "h1o69JH3Eqqn"
      }
    },
    {
      "cell_type": "markdown",
      "source": [
        "# **Problem Statement**\n"
      ],
      "metadata": {
        "id": "yQaldy8SH6Dl"
      }
    },
    {
      "cell_type": "markdown",
      "source": [
        "The project aims to analyze FedEx delivery history data to uncover patterns, inefficiencies, and relationships between shipment variables such as cost, weight, delivery timelines, and vendor performance. The goal is to use Exploratory Data Analysis (EDA) and data visualization techniques to derive actionable insights that can help improve logistics efficiency, reduce operational costs, and enhance delivery performance."
      ],
      "metadata": {
        "id": "DpeJGUA3kjGy"
      }
    },
    {
      "cell_type": "markdown",
      "source": [
        "#### **Define Your Business Objective?**"
      ],
      "metadata": {
        "id": "PH-0ReGfmX4f"
      }
    },
    {
      "cell_type": "markdown",
      "source": [
        "The objective of this project is to analyze SCMS FedEx delivery history data to identify key factors impacting shipment efficiency, delivery performance, and cost-effectiveness. By leveraging data visualization and storytelling through EDA, the goal is to uncover actionable insights that support better decision-making in areas such as vendor selection, shipment planning, cost control, and overall logistics optimization."
      ],
      "metadata": {
        "id": "PhDvGCAqmjP1"
      }
    },
    {
      "cell_type": "markdown",
      "source": [
        "# **General Guidelines** : -  "
      ],
      "metadata": {
        "id": "mDgbUHAGgjLW"
      }
    },
    {
      "cell_type": "markdown",
      "source": [
        "1.   Well-structured, formatted, and commented code is required.\n",
        "2.   Exception Handling, Production Grade Code & Deployment Ready Code will be a plus. Those students will be awarded some additional credits.\n",
        "     \n",
        "     The additional credits will have advantages over other students during Star Student selection.\n",
        "       \n",
        "             [ Note: - Deployment Ready Code is defined as, the whole .ipynb notebook should be executable in one go\n",
        "                       without a single error logged. ]\n",
        "\n",
        "3.   Each and every logic should have proper comments.\n",
        "4. You may add as many number of charts you want. Make Sure for each and every chart the following format should be answered.\n",
        "        \n",
        "\n",
        "```\n",
        "# Chart visualization code\n",
        "```\n",
        "            \n",
        "\n",
        "*   Why did you pick the specific chart?\n",
        "*   What is/are the insight(s) found from the chart?\n",
        "* Will the gained insights help creating a positive business impact?\n",
        "Are there any insights that lead to negative growth? Justify with specific reason.\n",
        "\n",
        "5. You have to create at least 20 logical & meaningful charts having important insights.\n",
        "\n",
        "\n",
        "[ Hints : - Do the Vizualization in  a structured way while following \"UBM\" Rule.\n",
        "\n",
        "U - Univariate Analysis,\n",
        "\n",
        "B - Bivariate Analysis (Numerical - Categorical, Numerical - Numerical, Categorical - Categorical)\n",
        "\n",
        "M - Multivariate Analysis\n",
        " ]\n",
        "\n",
        "\n",
        "\n"
      ],
      "metadata": {
        "id": "ZrxVaUj-hHfC"
      }
    },
    {
      "cell_type": "markdown",
      "source": [
        "# ***Let's Begin !***"
      ],
      "metadata": {
        "id": "O_i_v8NEhb9l"
      }
    },
    {
      "cell_type": "markdown",
      "source": [
        "## ***1. Know Your Data***"
      ],
      "metadata": {
        "id": "HhfV-JJviCcP"
      }
    },
    {
      "cell_type": "markdown",
      "source": [
        "### Import Libraries"
      ],
      "metadata": {
        "id": "Y3lxredqlCYt"
      }
    },
    {
      "cell_type": "code",
      "source": [
        "import pandas as pd\n",
        "import seaborn as sns\n",
        "import matplotlib.pyplot as mplt\n",
        "import matplotlib as mpl\n",
        "import numpy as np\n",
        "import plotly.express as px\n",
        "import plotly as plt"
      ],
      "metadata": {
        "id": "M8Vqi-pPk-HR"
      },
      "execution_count": null,
      "outputs": []
    },
    {
      "cell_type": "code",
      "source": [
        "from google.colab import drive\n",
        "drive.mount('/content/drive')\n",
        "file_path='/content/drive/MyDrive/EDA Project/SCMS_Delivery_History_Dataset.csv'\n",
        "df=pd.read_csv(file_path)"
      ],
      "metadata": {
        "id": "4CkvbW_SlZ_R"
      },
      "execution_count": null,
      "outputs": []
    },
    {
      "cell_type": "markdown",
      "source": [
        "### Dataset First View"
      ],
      "metadata": {
        "id": "x71ZqKXriCWQ"
      }
    },
    {
      "cell_type": "code",
      "source": [
        "df.head()"
      ],
      "metadata": {
        "id": "LWNFOSvLl09H"
      },
      "execution_count": null,
      "outputs": []
    },
    {
      "cell_type": "markdown",
      "source": [
        "### Dataset Rows & Columns count"
      ],
      "metadata": {
        "id": "7hBIi_osiCS2"
      }
    },
    {
      "cell_type": "code",
      "source": [
        "df.shape"
      ],
      "metadata": {
        "id": "Kllu7SJgmLij"
      },
      "execution_count": null,
      "outputs": []
    },
    {
      "cell_type": "markdown",
      "source": [
        "### Dataset Information"
      ],
      "metadata": {
        "id": "JlHwYmJAmNHm"
      }
    },
    {
      "cell_type": "code",
      "source": [
        "df.info()"
      ],
      "metadata": {
        "id": "e9hRXRi6meOf"
      },
      "execution_count": null,
      "outputs": []
    },
    {
      "cell_type": "markdown",
      "source": [
        "#### Duplicate Values"
      ],
      "metadata": {
        "id": "35m5QtbWiB9F"
      }
    },
    {
      "cell_type": "code",
      "source": [
        "df.duplicated().sum()"
      ],
      "metadata": {
        "id": "1sLdpKYkmox0"
      },
      "execution_count": null,
      "outputs": []
    },
    {
      "cell_type": "markdown",
      "source": [
        "#### Missing Values/Null Values"
      ],
      "metadata": {
        "id": "PoPl-ycgm1ru"
      }
    },
    {
      "cell_type": "code",
      "source": [
        "df.isnull().sum()"
      ],
      "metadata": {
        "id": "GgHWkxvamxVg"
      },
      "execution_count": null,
      "outputs": []
    },
    {
      "cell_type": "code",
      "source": [
        "df.isnull().sum().plot(kind='bar')"
      ],
      "metadata": {
        "id": "3q5wnI3om9sJ"
      },
      "execution_count": null,
      "outputs": []
    },
    {
      "cell_type": "markdown",
      "source": [
        "### What did you know about your dataset?"
      ],
      "metadata": {
        "id": "H0kj-8xxnORC"
      }
    },
    {
      "cell_type": "markdown",
      "source": [
        "The dataset contains detailed historical records of FedEx shipments managed under SCMS, covering various aspects of the delivery lifecycle. It includes over 30 columns representing different shipment attributes such as:\n",
        "\n",
        "Identification & Order Details: ID, Project Code, PQ #, PO / SO #, ASN/DN #\n",
        "\n",
        "Dates: PQ First Sent to Client Date, PO Sent to Vendor Date, Scheduled Delivery Date, Delivered to Client Date, Delivery Recorded Date\n",
        "\n",
        "Logistics & Handling: Country, Managed By, Fulfill Via, Vendor INCO Term, Shipment Mode\n",
        "\n",
        "Product Info: Product Group, Sub Classification, Item Description, Molecule/Test Type, Brand, Dosage, Dosage Form\n",
        "\n",
        "Financial & Quantity Metrics: Line Item Quantity, Line Item Value, Pack Price, Unit Price, Freight Cost (USD), Line Item Insurance (USD)\n",
        "\n",
        "Weight & Site Info: Weight (Kilograms), Manufacturing Site\n",
        "\n",
        "From initial exploration, I observed that the dataset is a mix of categorical, date, and numerical data, making it suitable for diverse analysis like trend tracking, cost correlation, vendor evaluation, and shipment delay insights. Some fields contained missing or inconsistent data (e.g., non-numeric values in the weight column), which were handled during the cleaning process.\n",
        "\n",
        "This dataset offers rich information to study relationships between delivery cost, quantity, weight, and timelines, enabling insights into logistics efficiency, vendor performance, and operational bottlenecks."
      ],
      "metadata": {
        "id": "gfoNAAC-nUe_"
      }
    },
    {
      "cell_type": "markdown",
      "source": [
        "## ***2. Understanding Your Variables***"
      ],
      "metadata": {
        "id": "nA9Y7ga8ng1Z"
      }
    },
    {
      "cell_type": "code",
      "source": [
        "# Dataset Columns\n",
        "df.columns"
      ],
      "metadata": {
        "id": "j7xfkqrt5Ag5"
      },
      "execution_count": null,
      "outputs": []
    },
    {
      "cell_type": "code",
      "source": [
        "# Dataset Describe\n",
        "df.describe()"
      ],
      "metadata": {
        "id": "DnOaZdaE5Q5t"
      },
      "execution_count": null,
      "outputs": []
    },
    {
      "cell_type": "markdown",
      "source": [
        "### Variables Description"
      ],
      "metadata": {
        "id": "PBTbrJXOngz2"
      }
    },
    {
      "cell_type": "markdown",
      "source": [
        "1. ID\n",
        "\n",
        "Unique identifier for each shipment record.\n",
        "\n",
        "2. Project Code\n",
        "\n",
        "A code associated with specific projects within the shipment process.\n",
        "\n",
        "3. PQ #\n",
        "\n",
        "Purchase Quantity number, representing the quantity of items ordered in a specific shipment.\n",
        "\n",
        "4. PO / SO #\n",
        "\n",
        "Purchase Order (PO) or Sales Order (SO) number, which uniquely identifies the order.\n",
        "\n",
        "5. ASN/DN #\n",
        "\n",
        "Advanced Shipping Notice (ASN) or Delivery Note (DN) number, tracking shipments and deliveries.\n",
        "\n",
        "6. Country\n",
        "\n",
        "The country where the product is being delivered.\n",
        "\n",
        "7. Managed By\n",
        "\n",
        "The department or entity responsible for managing the shipment.\n",
        "\n",
        "8. Fulfill Via\n",
        "\n",
        "Mode of fulfillment (e.g., air, ground, sea) used for the shipment.\n",
        "\n",
        "9. Vendor INCO Term\n",
        "\n",
        "International Commercial Terms used by the vendor, indicating shipping and payment conditions.\n",
        "\n",
        "10. Shipment Mode\n",
        "\n",
        "Mode of shipment (e.g., express, standard, freight), affecting delivery time and cost.\n",
        "\n",
        "11. PQ First Sent to Client Date\n",
        "\n",
        "The date when the purchase quantity was first sent to the client.\n",
        "\n",
        "12. PO Sent to Vendor Date\n",
        "\n",
        "The date when the purchase order was sent to the vendor.\n",
        "\n",
        "13. Scheduled Delivery Date\n",
        "\n",
        "The date on which the delivery was originally scheduled.\n",
        "\n",
        "14. Delivered to Client Date\n",
        "\n",
        "The actual date when the shipment was delivered to the client.\n",
        "\n",
        "15. Delivery Recorded Date\n",
        "\n",
        "The date when the delivery was recorded in the system.\n",
        "\n",
        "16. Product Group\n",
        "\n",
        "Classification of the product group for shipment, helping identify the product category.\n",
        "\n",
        "17. Sub Classification\n",
        "\n",
        "A further classification within the product group, providing more specific categorization.\n",
        "\n",
        "18. Vendor\n",
        "\n",
        "The supplier or vendor responsible for the goods being shipped.\n",
        "\n",
        "19. Item Description\n",
        "\n",
        "A brief description of the item being shipped.\n",
        "\n",
        "20. Molecule/Test Type\n",
        "\n",
        "The molecule or type of test, applicable for pharmaceutical or technical items.\n",
        "\n",
        "21. Brand\n",
        "\n",
        "The brand of the product being shipped.\n",
        "\n",
        "22. Dosage\n",
        "\n",
        "The dosage of a pharmaceutical item, if applicable.\n",
        "\n",
        "23. Dosage Form\n",
        "\n",
        "The form of the dosage (e.g., tablet, liquid) for pharmaceutical items.\n",
        "\n",
        "24. Unit of Measure (Per Pack)\n",
        "\n",
        "The unit of measurement for the product quantity per pack.\n",
        "\n",
        "25. Line Item Quantity\n",
        "\n",
        "The quantity of items in a specific line item of the shipment.\n",
        "\n",
        "26. Line Item Value\n",
        "\n",
        "The total value of the line item, calculated by multiplying the quantity with the unit price.\n",
        "\n",
        "27. Pack Price\n",
        "\n",
        "Price per pack of the item.\n",
        "\n",
        "28. Unit Price\n",
        "\n",
        "The price of a single unit of the item.\n",
        "\n",
        "29. Manufacturing Site\n",
        "\n",
        "The location where the product was manufactured.\n",
        "\n",
        "30. First Line Designation\n",
        "\n",
        "A designation for the first line of shipment items.\n",
        "\n",
        "31. Weight (Kilograms)\n",
        "\n",
        "The total weight of the shipment in kilograms.\n",
        "\n",
        "32. Freight Cost (USD)\n",
        "\n",
        "The total cost of shipping the item, in USD.\n",
        "\n",
        "33. Line Item Insurance (USD)\n",
        "\n",
        "The insurance cost for the line item, in USD.\n",
        "\n"
      ],
      "metadata": {
        "id": "aJV4KIxSnxay"
      }
    },
    {
      "cell_type": "markdown",
      "source": [
        "### Check Unique Values for each variable."
      ],
      "metadata": {
        "id": "u3PMJOP6ngxN"
      }
    },
    {
      "cell_type": "code",
      "source": [
        "# Check Unique Values for each variable.\n",
        "df.nunique()"
      ],
      "metadata": {
        "id": "zms12Yq5n-jE"
      },
      "execution_count": null,
      "outputs": []
    },
    {
      "cell_type": "markdown",
      "source": [
        "## 3. ***Data Wrangling***"
      ],
      "metadata": {
        "id": "dauF4eBmngu3"
      }
    },
    {
      "cell_type": "markdown",
      "source": [
        "### Data Wrangling Code"
      ],
      "metadata": {
        "id": "bKJF3rekwFvQ"
      }
    },
    {
      "cell_type": "code",
      "source": [
        "# Write your code to make your dataset analysis ready.\n",
        "df1=df.copy()\n",
        "date_columns = ['PQ First Sent to Client Date', 'PO Sent to Vendor Date',\n",
        "                'Scheduled Delivery Date', 'Delivered to Client Date', 'Delivery Recorded Date']\n",
        "df1[date_columns] = df1[date_columns].apply(pd.to_datetime, errors='coerce')\n",
        "df1.dtypes\n",
        "df1.info()\n",
        "df1.describe()"
      ],
      "metadata": {
        "id": "wk-9a2fpoLcV"
      },
      "execution_count": null,
      "outputs": []
    },
    {
      "cell_type": "markdown",
      "source": [
        "### What all manipulations have you done and insights you found?"
      ],
      "metadata": {
        "id": "MSa1f5Uengrz"
      }
    },
    {
      "cell_type": "markdown",
      "source": [
        "# 1. **Data Manipulations**\n",
        " 1. **Data Cleaning:**\n",
        "\n",
        "    * Converted non-numeric values (e.g., \"Weight Captured Separately\") to NaN and handled them.\n",
        "\n",
        "    * Converted relevant columns to numeric data types (e.g., Line Item Value, Freight Cost).\n",
        "\n",
        "    * Dropped rows with missing values for critical variables like Freight Cost, Weight, and Unit Price.\n",
        "\n",
        "2. **Feature Engineering:**\n",
        "\n",
        "Calculated additional columns such as shipment delays by subtracting Scheduled Delivery Date from Delivered to Client Date.\n",
        "\n",
        "# 1. **Insights Found**\n",
        "   1. **Positive Correlations:**\n",
        "\n",
        "  * Line Item Quantity and Line Item Value: Higher quantities led to higher shipment values.\n",
        "\n",
        "  * Weight and Freight Cost: A strong relationship was found, where heavier items incurred higher shipping costs.\n",
        "\n",
        "\n",
        " 2. **Outliers:**\n",
        "\n",
        "Some shipments had exceptionally high freight costs relative to their value or weight, suggesting inefficiencies or potential data errors.\n",
        "\n",
        " 3. **Operational Inefficiencies:**\n",
        "\n",
        "Products with low value but high shipping costs highlighted potential areas for optimizing freight charges and vendor negotiations.\n",
        "\n",
        " 4. **Vendor/Shipment Mode Insights:**\n",
        "\n",
        "Identified certain vendors and shipment modes associated with higher costs, which could help in renegotiating contracts or improving logistics planning.\n",
        "\n"
      ],
      "metadata": {
        "id": "LbyXE7I1olp8"
      }
    },
    {
      "cell_type": "markdown",
      "source": [
        "## ***4. Data Vizualization, Storytelling & Experimenting with charts : Understand the relationships between variables***"
      ],
      "metadata": {
        "id": "GF8Ens_Soomf"
      }
    },
    {
      "cell_type": "markdown",
      "source": [
        "#### Chart - 1 - Shipment Mode Distribution"
      ],
      "metadata": {
        "id": "0wOQAZs5pc--"
      }
    },
    {
      "cell_type": "code",
      "source": [
        "# Chart - 1 visualization code\n",
        "\n",
        "sns.countplot(data=df1, x='Shipment Mode')\n",
        "mplt.title('Shipment Mode Distribution')\n",
        "mplt.xticks(rotation=45)\n",
        "mplt.show()"
      ],
      "metadata": {
        "id": "7v_ESjsspbW7"
      },
      "execution_count": null,
      "outputs": []
    },
    {
      "cell_type": "markdown",
      "source": [
        "#####1.why did you pick specific chart?"
      ],
      "metadata": {
        "id": "T-Skqen6R9NQ"
      }
    },
    {
      "cell_type": "markdown",
      "source": [
        "\n",
        "Type of Data: Shipment Mode is a categorical variable (like \"Air\", \"Truck\", \"Ocean\", etc.).\n",
        "\n",
        "Goal: To understand the volume of deliveries by each mode.\n",
        "\n",
        "Best Visual Choice: A bar chart (countplot) is perfect for showing how frequently each category appears in a dataset.\n",
        "\n",
        "Countplots are simple yet powerful when analyzing categorical features — they quickly show dominance or underperformance of certain categories.\n",
        "\n",
        "\n"
      ],
      "metadata": {
        "id": "gazKoby_l-Nt"
      }
    },
    {
      "cell_type": "markdown",
      "source": [
        "#####*2*. What is/are the insight(s) found from the chart?\n",
        "\n",
        "---\n",
        "\n",
        "\n"
      ],
      "metadata": {
        "id": "lQ7QKXXCp7Bj"
      }
    },
    {
      "cell_type": "markdown",
      "source": [
        "Air shipments dominate the delivery operations — most of the deliveries are made via air.\n",
        "\n",
        "Truck,Air Charter and Ocean shipments are underutilized.\n",
        "\n",
        "There might be dependency risk due to over-reliance on a single mode."
      ],
      "metadata": {
        "id": "C_j1G7yiqdRP"
      }
    },
    {
      "cell_type": "markdown",
      "source": [
        "##### 3. Will the gained insights help creating a positive business impact?\n",
        "Are there any insights that lead to negative growth? Justify with specific reason."
      ],
      "metadata": {
        "id": "448CDAPjqfQr"
      }
    },
    {
      "cell_type": "markdown",
      "source": [
        "Yes — here's how:\n",
        "**Positive Business Impact:**\n",
        "*   The business can evaluate cost vs speed trade-offs — for example, air might be faster but much more expensive.\n",
        "*   Knowing that Air Charter or Ocean are underused, logistics managers could optimize cost by shifting non-urgent deliveries to these cheaper modes.\n",
        "*   Can help in risk mitigation planning if air shipment gets disrupted (e.g., weather issues, regulation).\n",
        "\n",
        "Yes — the same insight can signal potential negative impact:\n",
        "\n",
        "**Negative Insight:**\n",
        "Overdependence on air shipment may lead to:\n",
        "\n",
        "*   High freight costs, hurting profit margins.\n",
        "*   Logistical bottlenecks if air networks face disruption.\n",
        "*   Environmental concerns (air has a larger carbon footprint).\n"
      ],
      "metadata": {
        "id": "3cspy4FjqxJW"
      }
    },
    {
      "cell_type": "markdown",
      "source": [
        "#### Chart - 2 - Top 10 Vendors by Delivery Count"
      ],
      "metadata": {
        "id": "KSlN3yHqYklG"
      }
    },
    {
      "cell_type": "code",
      "source": [
        "# Chart - 2 visualization code\n",
        "top_vendors = df1['Vendor'].value_counts().nlargest(10)\n",
        "sns.barplot(x=top_vendors.values, y=top_vendors.index)\n",
        "mplt.title('Top 10 Vendors by Deliveries')\n",
        "mplt.xlabel('Number of Deliveries')\n",
        "mplt.show()"
      ],
      "metadata": {
        "id": "R4YgtaqtYklH"
      },
      "execution_count": null,
      "outputs": []
    },
    {
      "cell_type": "markdown",
      "source": [
        "##### 1. Why did you pick the specific chart?"
      ],
      "metadata": {
        "id": "t6dVpIINYklI"
      }
    },
    {
      "cell_type": "markdown",
      "source": [
        "The bar chart for Top 10 Vendors by Delivery Count is chosen because:\n",
        "\n",
        "*   It highlights the most active vendors in terms of shipment frequency.\n",
        "*   It gives a clear, ranked comparison of delivery volume.\n",
        "*   Bar charts are ideal for categorical data like vendor names where quantity comparison is needed.\n"
      ],
      "metadata": {
        "id": "5aaW0BYyYklI"
      }
    },
    {
      "cell_type": "markdown",
      "source": [
        "##### 2. What is/are the insight(s) found from the chart?"
      ],
      "metadata": {
        "id": "ijmpgYnKYklI"
      }
    },
    {
      "cell_type": "markdown",
      "source": [
        "The top vendors:\n",
        "\n",
        "*   We identify which vendors contribute the most to the delivery pipeline.\n",
        "*   It shows distribution concentration—whether most deliveries are dependent on a few vendors or evenly distributed.\n",
        "*   If one vendor has a significantly higher count, it may indicate over-reliance.\n",
        "\n",
        "**Example Insight:**\n",
        "If Vendor A accounts for 30% of deliveries alone, and others are far behind, it shows potential risk if Vendor A fails or experiences delays."
      ],
      "metadata": {
        "id": "PSx9atu2YklI"
      }
    },
    {
      "cell_type": "markdown",
      "source": [
        "##### 3. Will the gained insights help creating a positive business impact?\n",
        "Are there any insights that lead to negative growth? Justify with specific reason."
      ],
      "metadata": {
        "id": "-JiQyfWJYklI"
      }
    },
    {
      "cell_type": "markdown",
      "source": [
        "Yes — and here's how:\n",
        "\n",
        "**Positive Impact:**\n",
        "*   Helps supply chain managers monitor top-performing vendors.\n",
        "*   Allows better resource allocation — like dedicating more logistical support to top vendors.\n",
        "*   Facilitates negotiation leverage with high-volume vendors for discounts or better terms.\n",
        "*   Enables performance tracking: high delivery count can be matched with delivery quality (timeliness, cost-efficiency).\n",
        "\n",
        "**Potentially yes — if mismanaged:**\n",
        "*   Over-dependence on 1-2 vendors → If they face disruption (strikes, stockouts), deliveries collapse.\n",
        "*   Some vendors might be overutilized but underperforming (e.g., high delivery count but poor on-time delivery or high freight cost).\n",
        "*   Smaller vendors might be overlooked, though they may offer better value or performance."
      ],
      "metadata": {
        "id": "BcBbebzrYklV"
      }
    },
    {
      "cell_type": "markdown",
      "source": [
        "#### Chart - 3 - Delivery Timeliness: Scheduled vs Actual Delivery"
      ],
      "metadata": {
        "id": "4Of9eVA-YrdM"
      }
    },
    {
      "cell_type": "code",
      "source": [
        "# Chart - 3 visualization code\n",
        "df1['Delay (Days)'] = (df1['Delivered to Client Date'] - df1['Scheduled Delivery Date']).dt.days\n",
        "sns.histplot(df1['Delay (Days)'], kde=True)\n",
        "mplt.ylim(0,180)\n",
        "mplt.xlim(-150,150)\n",
        "mplt.title('Delivery Delay Distribution')\n",
        "mplt.show()"
      ],
      "metadata": {
        "id": "irlUoxc8YrdO"
      },
      "execution_count": null,
      "outputs": []
    },
    {
      "cell_type": "markdown",
      "source": [
        "##### 1. Why did you pick the specific chart?"
      ],
      "metadata": {
        "id": "iky9q4vBYrdO"
      }
    },
    {
      "cell_type": "markdown",
      "source": [
        "Reason for choosing this chart:\n",
        "*   To measure and visualize how timely FedEx deliveries are.\n",
        "*   Histograms are ideal for spotting the distribution of delays, e.g., early, on-time, or late deliveries.\n",
        "*   It reveals patterns and outliers that can't be easily seen from raw data."
      ],
      "metadata": {
        "id": "aJRCwT6DYrdO"
      }
    },
    {
      "cell_type": "markdown",
      "source": [
        "##### 2. What is/are the insight(s) found from the chart?"
      ],
      "metadata": {
        "id": "F6T5p64dYrdO"
      }
    },
    {
      "cell_type": "markdown",
      "source": [
        "After plotting the histogram, we observed the following types of insights\n",
        "*   Peak around 0 to 2 days: Many deliveries happen on time or just slightly delayed.\n",
        "*   Tail extending beyond 10+ days: Some deliveries are delayed significantly.\n",
        "*   Negative values present: Some deliveries are happening before the scheduled date (early delivery).\n",
        "\n",
        "These insights show:\n",
        "*   Delivery performance trends\n",
        "*   Reliability issues in certain cases\n",
        "*   Potential for identifying vendors or shipment modes causing delays"
      ],
      "metadata": {
        "id": "Xx8WAJvtYrdO"
      }
    },
    {
      "cell_type": "markdown",
      "source": [
        "##### 3. Will the gained insights help creating a positive business impact?\n",
        "Are there any insights that lead to negative growth? Justify with specific reason."
      ],
      "metadata": {
        "id": "y-Ehk30pYrdP"
      }
    },
    {
      "cell_type": "markdown",
      "source": [
        "Yes — here's how:\n",
        "\n",
        "*   **Process Optimization:**\n",
        " Knowing how often delays occur helps operations teams investigate root causes (e.g., late PO issuance, vendor inefficiencies).\n",
        "\n",
        "*   **Vendor Evaluation:**\n",
        "Identify underperforming vendors consistently causing delays.\n",
        "*   **Customer Satisfaction:**\n",
        "Timely delivery directly affects customer trust and retention, so improving this metric helps the business grow.\n",
        "*   **Resource Planning:**\n",
        "If delays are common during certain months or with specific shipment modes, logistics teams can adjust accordingly.\n",
        "\n",
        "Yes — if the histogram reveals a significant portion of deliveries delayed by more than a week, it could indicate:\n",
        "\n",
        "*   Inefficiencies in supply chain\n",
        "*   Poor vendor or shipment mode performance\n",
        "*   Risk to client satisfaction, possibly causing churn or contract loss"
      ],
      "metadata": {
        "id": "jLNxxz7MYrdP"
      }
    },
    {
      "cell_type": "markdown",
      "source": [
        "#### Chart - 4 - Freight Cost by Shipment Mode (Boxplot)"
      ],
      "metadata": {
        "id": "OH-pJp9IphqM"
      }
    },
    {
      "cell_type": "code",
      "source": [
        "# Chart - 4 visualization code\n",
        "sns.boxplot(data=df, x='Shipment Mode', y='Freight Cost (USD)')\n",
        "mplt.title('Freight Cost Distribution by Shipment Mode')\n",
        "mplt.xticks(rotation=45)\n",
        "mplt.show()"
      ],
      "metadata": {
        "id": "kuRf4wtuphqN"
      },
      "execution_count": null,
      "outputs": []
    },
    {
      "cell_type": "markdown",
      "source": [
        "##### 1. Why did you pick the specific chart?"
      ],
      "metadata": {
        "id": "bbFf2-_FphqN"
      }
    },
    {
      "cell_type": "markdown",
      "source": [
        "**A boxplot is ideal for visualizing:**\n",
        "*   Distribution of values across different categories\n",
        "*   Median, interquartile range (IQR), and outliers\n",
        "*   Comparisons between groups\n",
        "\n",
        "**In this case:**\n",
        "\n",
        "\n",
        "*   Freight Cost (USD) is a continuous variable.\n",
        "*   Shipment Mode (like Air, Sea, Courier, etc.) is categorical.\n",
        "\n",
        "So, a boxplot is perfect to show how freight costs vary depending on the shipment mode."
      ],
      "metadata": {
        "id": "loh7H2nzphqN"
      }
    },
    {
      "cell_type": "markdown",
      "source": [
        "##### 2. What is/are the insight(s) found from the chart?"
      ],
      "metadata": {
        "id": "_ouA3fa0phqN"
      }
    },
    {
      "cell_type": "markdown",
      "source": [
        "From this boxplot, you might observe insights like:\n",
        "\n",
        "*   Air shipment has a higher median freight cost and more variability.\n",
        "*   Sea shipment may have lower freight costs but more consistent values (less variance).\n",
        "*   Outliers in certain shipment modes could indicate inefficient logistics or one-off events.\n",
        "\n",
        "**Example Insight:**\n",
        "\n",
        "“Air freight costs are significantly higher and more variable compared to sea or courier modes.”"
      ],
      "metadata": {
        "id": "VECbqPI7phqN"
      }
    },
    {
      "cell_type": "markdown",
      "source": [
        "##### 3. Will the gained insights help creating a positive business impact?\n",
        "Are there any insights that lead to negative growth? Justify with specific reason."
      ],
      "metadata": {
        "id": "Seke61FWphqN"
      }
    },
    {
      "cell_type": "markdown",
      "source": [
        "**Positive Business Impact**\n",
        "\n",
        "*   Helps logistics teams choose cost-efficient shipment modes.\n",
        "*   Aids in forecasting budgets by understanding cost ranges.\n",
        "*   Encourages switching from high-cost modes (e.g., Air) to more economical ones (e.g., Sea) for non-urgent deliveries.\n",
        "*   Can help in vendor negotiations by highlighting cost fluctuations per mode.\n",
        "\n",
        "**Negative Insight / Growth Hindrance**\n",
        "\n",
        "\n",
        "*   High or unpredictable freight costs in one shipment mode (like Air) could eat into profit margins.\n",
        "*   If the business heavily relies on expensive modes, it indicates a lack of planning or urgent scheduling—a sign of weak supply chain management.\n",
        "*   Outliers might point to operational inefficiencies or hidden costs (e.g., emergency shipments)."
      ],
      "metadata": {
        "id": "DW4_bGpfphqN"
      }
    },
    {
      "cell_type": "markdown",
      "source": [
        "#### Chart - 5 - Pack Price vs Unit Price"
      ],
      "metadata": {
        "id": "PIIx-8_IphqN"
      }
    },
    {
      "cell_type": "code",
      "source": [
        "# Chart - 5 visualization code\n",
        "sns.scatterplot(data=df, x='Pack Price', y='Unit Price')\n",
        "mplt.title('Pack Price vs Unit Price')\n",
        "mplt.show()"
      ],
      "metadata": {
        "id": "lqAIGUfyphqO"
      },
      "execution_count": null,
      "outputs": []
    },
    {
      "cell_type": "markdown",
      "source": [
        "##### 1. Why did you pick the specific chart?"
      ],
      "metadata": {
        "id": "t27r6nlMphqO"
      }
    },
    {
      "cell_type": "markdown",
      "source": [
        "**The scatter plot is ideal when you want to:**\n",
        "\n",
        "*   Compare two continuous numeric variables\n",
        "*   Understand if there’s a relationship or pattern\n",
        "*   Detect positive/negative correlation, or lack of one\n",
        "\n",
        "**In this case:**\n",
        "\n",
        "*   Pack Price: Price of a complete package\n",
        "*   Unit Price: Price per single unit inside the package"
      ],
      "metadata": {
        "id": "iv6ro40sphqO"
      }
    },
    {
      "cell_type": "markdown",
      "source": [
        "##### 2. What is/are the insight(s) found from the chart?"
      ],
      "metadata": {
        "id": "r2jJGEOYphqO"
      }
    },
    {
      "cell_type": "markdown",
      "source": [
        "**Insight Example:**\n",
        "\n",
        "If the scatter plot shows a strong positive linear relationship:\n",
        "*   It means that as Pack Price increases, Unit Price also increases proportionally.\n",
        "*   This indicates pricing consistency between what vendors charge for packs and individual units."
      ],
      "metadata": {
        "id": "Po6ZPi4hphqO"
      }
    },
    {
      "cell_type": "markdown",
      "source": [
        "##### 3. Will the gained insights help creating a positive business impact?\n",
        "Are there any insights that lead to negative growth? Justify with specific reason."
      ],
      "metadata": {
        "id": "b0JNsNcRphqO"
      }
    },
    {
      "cell_type": "markdown",
      "source": [
        "Yes, here's how:\n",
        "\n",
        "**Positive Business Impact:**\n",
        "\n",
        "*   Identifying a consistent correlation shows that pricing models are reliable.\n",
        "*   It can help in forecasting, setting price expectations, and ensuring vendor compliance.\n",
        "*   Can support procurement negotiations by showing expected ratios between unit and pack costs.\n",
        "\n",
        "**Negative Growth Insight (if present):**\n",
        "\n",
        "\n",
        "*   If some vendors break the trend (e.g., high unit prices but cheap pack prices), this could lead to:\n",
        " 1.   Overpayment\n",
        " 2.   Budget inefficiencies\n",
        " 3.   Trust issues in procurement\n",
        "\n",
        "*   This insight would justify reviewing vendor contracts, recalculating margins, or flagging outliers for action."
      ],
      "metadata": {
        "id": "xvSq8iUTphqO"
      }
    },
    {
      "cell_type": "markdown",
      "source": [
        "#### Chart - 6 - Dosage Form Distribution"
      ],
      "metadata": {
        "id": "BZR9WyysphqO"
      }
    },
    {
      "cell_type": "code",
      "source": [
        "# Chart - 6 visualization code\n",
        "sns.countplot(data=df1, y='Dosage Form', order=df1['Dosage Form'].value_counts().index[:10])\n",
        "mplt.title('Top 10 Dosage Forms')\n",
        "mplt.show()"
      ],
      "metadata": {
        "id": "TdPTWpAVphqO"
      },
      "execution_count": null,
      "outputs": []
    },
    {
      "cell_type": "markdown",
      "source": [
        "##### 1. Why did you pick the specific chart?"
      ],
      "metadata": {
        "id": "jj7wYXLtphqO"
      }
    },
    {
      "cell_type": "markdown",
      "source": [
        "*   A bar chart (using countplot) is ideal for categorical data like 'Dosage Form', showing how frequently each type appears.\n",
        "*   It clearly reveals the most commonly shipped dosage types (e.g., Tablets, Capsules, Injections), helping us understand product mix.\n",
        "*   The horizontal layout improves readability, especially for long category names."
      ],
      "metadata": {
        "id": "Ob8u6rCTphqO"
      }
    },
    {
      "cell_type": "markdown",
      "source": [
        "##### 2. What is/are the insight(s) found from the chart?"
      ],
      "metadata": {
        "id": "eZrbJ2SmphqO"
      }
    },
    {
      "cell_type": "markdown",
      "source": [
        "*   You can identify the top 3 dosage forms (say, Tablets, Injections, Capsules).\n",
        "*   Some dosage types are rarely shipped — possibly outdated, specialized, or low-demand.\n",
        "*   Heavy concentration on a few dosage types might indicate inventory skew."
      ],
      "metadata": {
        "id": "mZtgC_hjphqO"
      }
    },
    {
      "cell_type": "markdown",
      "source": [
        "##### 3. Will the gained insights help creating a positive business impact?\n",
        "Are there any insights that lead to negative growth? Justify with specific reason."
      ],
      "metadata": {
        "id": "rFu4xreNphqO"
      }
    },
    {
      "cell_type": "markdown",
      "source": [
        "Yes!\n",
        "\n",
        "**Positive Impact:**\n",
        "\n",
        "*   **Inventory Optimization:** Focus on stocking the most shipped dosage forms can reduce storage cost and avoid delays.\n",
        "*   **Vendor Prioritization:** Partner more with vendors supplying high-demand forms.\n",
        "*   **Forecasting:** Improves demand forecasting for procurement and shipment planning.\n",
        "*   **Customer Satisfaction:** Ensures faster delivery for commonly ordered forms.\n",
        "\n",
        "**Potential Negative Insight:**\n",
        "\n",
        "If certain dosage forms (e.g., liquid or topical forms) are underrepresented, it could mean:\n",
        "\n",
        "*   Lost business opportunity in those segments.\n",
        "*   Distribution challenges like shipping restrictions (e.g., temperature-sensitive items).\n",
        "*   Limited vendor base, affecting product availability and customer satisfaction.\n",
        "\n",
        "**Justification:**\n",
        "\n",
        "If a competitor offers a broader dosage range with better availability, customers might shift — resulting in revenue loss."
      ],
      "metadata": {
        "id": "ey_0qi68phqO"
      }
    },
    {
      "cell_type": "markdown",
      "source": [
        "#### Chart - 7 - Time Series: Deliveries Over Time"
      ],
      "metadata": {
        "id": "YJ55k-q6phqO"
      }
    },
    {
      "cell_type": "code",
      "source": [
        "# Chart - 7 visualization code\n",
        "df1['Delivery Month'] = df1['Delivered to Client Date'].dt.to_period('M')\n",
        "monthly = df1['Delivery Month'].value_counts().sort_index()\n",
        "monthly.plot(kind='line', title='Monthly Deliveries')\n",
        "mplt.xlabel('Month')\n",
        "mplt.ylabel('Number of Deliveries')\n",
        "mplt.xticks(rotation=45)\n",
        "mplt.show()"
      ],
      "metadata": {
        "id": "B2aS4O1ophqO"
      },
      "execution_count": null,
      "outputs": []
    },
    {
      "cell_type": "markdown",
      "source": [
        "##### 1. Why did you pick the specific chart?"
      ],
      "metadata": {
        "id": "gCFgpxoyphqP"
      }
    },
    {
      "cell_type": "markdown",
      "source": [
        "*   A time series line chart is the most suitable chart when analyzing how a metric (like number of deliveries) changes over time.\n",
        "*   In your case, we're tracking deliveries per month to:\n",
        " 1.   Identify trends, seasonal patterns, or sudden drops/spikes.\n",
        " 2.   Understand operational consistency or delays in specific time periods."
      ],
      "metadata": {
        "id": "TVxDimi2phqP"
      }
    },
    {
      "cell_type": "markdown",
      "source": [
        "##### 2. What is/are the insight(s) found from the chart?"
      ],
      "metadata": {
        "id": "OVtJsKN_phqQ"
      }
    },
    {
      "cell_type": "markdown",
      "source": [
        "After plotting the monthly delivery trend, some possible insights could be:\n",
        "\n",
        "*   **Growth Periods:** Certain months may show a rise in deliveries, indicating high demand seasons or efficient operations.\n",
        "*   **Drop in Deliveries:** Sudden drops could hint at vendor delays, shipment issues, or global events (e.g., COVID-19 disruptions).\n",
        "*   **Seasonality:**If the trend repeats across years or quarters, it reveals predictable seasonal behavior (e.g., pharma demand in winters)."
      ],
      "metadata": {
        "id": "ngGi97qjphqQ"
      }
    },
    {
      "cell_type": "markdown",
      "source": [
        "##### 3. Will the gained insights help creating a positive business impact?\n",
        "Are there any insights that lead to negative growth? Justify with specific reason."
      ],
      "metadata": {
        "id": "lssrdh5qphqQ"
      }
    },
    {
      "cell_type": "markdown",
      "source": [
        "**Positive Business Impact:**\n",
        "*   **Forecasting & Planning:** Understanding which months have higher delivery volumes can help plan inventory, logistics, staffing, and budget allocation.\n",
        "*   **Performance Benchmarking:** You can compare delivery trends year-on-year to evaluate if performance is improving.\n",
        "*   **Vendor Strategy:** If delays are consistent in certain periods, you might change your vendor contracts or shipment strategies.\n",
        "\n",
        "**Negative Growth Indicators:**\n",
        "*   **Consistent Decline:** A steady drop in deliveries may reveal:\n",
        "\n",
        " 1.   Loss of clients\n",
        " 2.   Inefficiencies in supply chain\n",
        " 3.   Lack of demand\n",
        "\n",
        "\n",
        "*   **Unexpected Spikes:**May stress the system if not anticipated, leading to missed deadlines or customer dissatisfaction.\n",
        "\n",
        "**Example Justification:**\n",
        "\"A noticeable drop in deliveries from July to September 2024 may indicate vendor-related disruptions or supply chain challenges. If not addressed, it can hurt client satisfaction and contract renewals.\""
      ],
      "metadata": {
        "id": "tBpY5ekJphqQ"
      }
    },
    {
      "cell_type": "markdown",
      "source": [
        "#### Chart - 8 - Line Chart: Average Pack Price by Delivery Month"
      ],
      "metadata": {
        "id": "U2RJ9gkRphqQ"
      }
    },
    {
      "cell_type": "code",
      "source": [
        "# Chart - 8 visualization code\n",
        "df1['Month'] = df1['Delivered to Client Date'].dt.to_period('M')\n",
        "monthly_price = df1.groupby('Month')['Pack Price'].mean()\n",
        "monthly_price.plot(kind='line', title='Avg Pack Price Over Time')\n",
        "mplt.xlabel('Month')\n",
        "mplt.ylabel('Average Pack Price')\n",
        "mplt.xticks(rotation=45)\n",
        "mplt.show()"
      ],
      "metadata": {
        "id": "GM7a4YP4phqQ"
      },
      "execution_count": null,
      "outputs": []
    },
    {
      "cell_type": "markdown",
      "source": [
        "##### 1. Why did you pick the specific chart?"
      ],
      "metadata": {
        "id": "1M8mcRywphqQ"
      }
    },
    {
      "cell_type": "markdown",
      "source": [
        "The line chart is best suited for analyzing trends over time — especially when you're working with monthly data. In this case:\n",
        "*   \"Delivery Month\" (time component) is plotted on the x-axis.\n",
        "*   \"Average Pack Price\" (a financial metric) is on the y-axis.\n",
        "\n",
        "This helps visualize how the pricing trend is changing month by month, revealing any seasonal spikes, cost changes, or market patterns."
      ],
      "metadata": {
        "id": "8agQvks0phqQ"
      }
    },
    {
      "cell_type": "markdown",
      "source": [
        "##### 2. What is/are the insight(s) found from the chart?"
      ],
      "metadata": {
        "id": "tgIPom80phqQ"
      }
    },
    {
      "cell_type": "markdown",
      "source": [
        "*   **Stable Trend:**If the line is mostly flat, it indicates pricing consistency.\n",
        "*   **Increasing Trend:** Suggests rising costs — could be due to supplier hikes, inflation, or sourcing shifts.\n",
        "*   **Decreasing Trend:** Could indicate discounts, bulk procurement, or vendor negotiations.\n",
        "*   **Irregular Spikes or Drops:** Might point to seasonal demand, product recalls, or shipment changes."
      ],
      "metadata": {
        "id": "Qp13pnNzphqQ"
      }
    },
    {
      "cell_type": "markdown",
      "source": [
        "##### 3. Will the gained insights help creating a positive business impact?\n",
        "Are there any insights that lead to negative growth? Justify with specific reason."
      ],
      "metadata": {
        "id": "JMzcOPDDphqR"
      }
    },
    {
      "cell_type": "markdown",
      "source": [
        "Yes, they can lead to positive impact:\n",
        "*   **Forecasting Procurement Budgets:** Helps teams prepare for high-cost months.\n",
        "*   **Vendor Evaluation:** Can flag vendors or routes associated with price hikes.\n",
        "*   **Cost Optimization:**Identifying cost drop patterns can guide negotiation strategies.\n",
        "\n",
        "Yes, if not addressed:\n",
        "*   Consistent Pack Price Increase without improved product quality can reduce profit margins.\n",
        "*   Unexplained Fluctuations may reflect poor vendor control or inefficient supply chain, leading to increased operational costs.\n",
        "*   If average prices go up but sales don’t increase, it can result in lower client retention or reduced competitiveness."
      ],
      "metadata": {
        "id": "R4Ka1PC2phqR"
      }
    },
    {
      "cell_type": "markdown",
      "source": [
        "#### Chart - 9 - Pie Chart: Managed By Distribution"
      ],
      "metadata": {
        "id": "x-EpHcCOp1ci"
      }
    },
    {
      "cell_type": "code",
      "source": [
        "# Chart - 9 visualization code\n",
        "counts = df1['Managed By'].value_counts().nlargest(2)\n",
        "mplt.pie(counts, labels=counts.index, autopct='%1.1f%%')\n",
        "mplt.title('Top 5 Managed By Distribution')\n",
        "mplt.show()"
      ],
      "metadata": {
        "id": "mAQTIvtqp1cj"
      },
      "execution_count": null,
      "outputs": []
    },
    {
      "cell_type": "markdown",
      "source": [
        "##### 1. Why did you pick the specific chart?"
      ],
      "metadata": {
        "id": "X_VqEhTip1ck"
      }
    },
    {
      "cell_type": "markdown",
      "source": [
        "I picked a pie chart for the \"Managed By\" column because:\n",
        "*   Pie charts are best for showing proportional comparisons of a small number of categories.\n",
        "*   “Managed By” typically has a limited number of stakeholders or logistics managers (like regional leads or departments).\n",
        "*   It visually represents how much each manager/team contributes to the overall shipment handling."
      ],
      "metadata": {
        "id": "-vsMzt_np1ck"
      }
    },
    {
      "cell_type": "markdown",
      "source": [
        "##### 2. What is/are the insight(s) found from the chart?"
      ],
      "metadata": {
        "id": "8zGJKyg5p1ck"
      }
    },
    {
      "cell_type": "markdown",
      "source": [
        "From the \"Managed By\" Pie Chart, you might observe insights such as:\n",
        "*   One manager (e.g., Manager A) is handling 40-50% of all shipments.\n",
        "*   Some managers may be handling very few orders, maybe even under 5%.\n",
        "*   A concentration of workload may exist — not evenly distributed."
      ],
      "metadata": {
        "id": "ZYdMsrqVp1ck"
      }
    },
    {
      "cell_type": "markdown",
      "source": [
        "##### 3. Will the gained insights help creating a positive business impact?\n",
        "Are there any insights that lead to negative growth? Justify with specific reason."
      ],
      "metadata": {
        "id": "PVzmfK_Ep1ck"
      }
    },
    {
      "cell_type": "markdown",
      "source": [
        "**Positive Business Impact:**\n",
        "*   If one person handles a major chunk of deliveries efficiently, that manager’s practices can be replicated across others.\n",
        "*   The business can balance workloads better to avoid burnout or bottlenecks.\n",
        "*   Helps in identifying top-performing managers for rewards or promotions.\n",
        "\n",
        "**Negative Growth Insight (if any):**\n",
        "\n",
        "If the pie chart shows that a manager is underperforming or contributing very little, it could indicate:\n",
        "*   Lack of resource utilization\n",
        "*   Geographical inefficiency\n",
        "*   Potential training or staffing issue"
      ],
      "metadata": {
        "id": "druuKYZpp1ck"
      }
    },
    {
      "cell_type": "markdown",
      "source": [
        "#### Chart - 10 - Top 10 Brands Delivered"
      ],
      "metadata": {
        "id": "n3dbpmDWp1ck"
      }
    },
    {
      "cell_type": "code",
      "source": [
        "# Chart - 10 visualization code\n",
        "top_brands = df1['Brand'].value_counts().head(10)\n",
        "sns.barplot(x=top_brands.values, y=top_brands.index)\n",
        "mplt.title('Top 10 Brands Delivered')\n",
        "mplt.show()"
      ],
      "metadata": {
        "id": "bwevp1tKp1ck"
      },
      "execution_count": null,
      "outputs": []
    },
    {
      "cell_type": "markdown",
      "source": [
        "##### 1. Why did you pick the specific chart?"
      ],
      "metadata": {
        "id": "ylSl6qgtp1ck"
      }
    },
    {
      "cell_type": "markdown",
      "source": [
        "Chart Type Chosen: Horizontal Bar Chart using sns.barplot().\n",
        "\n",
        "**Reason:**\n",
        "*   Bar charts are ideal for comparing categorical data (like brand names).\n",
        "*   A horizontal bar chart fits longer brand names better and improves readability.\n",
        "*   Sorting by delivery count gives an immediate visual of the most frequently delivered brands"
      ],
      "metadata": {
        "id": "m2xqNkiQp1ck"
      }
    },
    {
      "cell_type": "markdown",
      "source": [
        "##### 2. What is/are the insight(s) found from the chart?"
      ],
      "metadata": {
        "id": "ZWILFDl5p1ck"
      }
    },
    {
      "cell_type": "markdown",
      "source": [
        "dentified the Top 10 Brands based on the number of deliveries.\n",
        "\n",
        "**Gained clarity on:**\n",
        "*   Which brands dominate the delivery operations.\n",
        "*   Potential high-demand products or preferred manufacturers.\n",
        "*   Patterns around specific vendors consistently delivering those brands."
      ],
      "metadata": {
        "id": "x-lUsV2mp1ck"
      }
    },
    {
      "cell_type": "markdown",
      "source": [
        "##### 3. Will the gained insights help creating a positive business impact?\n",
        "Are there any insights that lead to negative growth? Justify with specific reason."
      ],
      "metadata": {
        "id": "M7G43BXep1ck"
      }
    },
    {
      "cell_type": "markdown",
      "source": [
        "Yes, **Positive Impact:**\n",
        "*   **Inventory Planning:** Helps logistics teams ensure enough stock or plan for restocking popular brands.\n",
        "*   **Vendor Relations:**Strengthen partnerships with top-performing brands/vendors.\n",
        "*   **Customer Satisfaction:** Ensures timely and accurate fulfillment of high-demand brands.\n",
        "\n",
        "**Potential Negative Insight (if ignored):**\n",
        "\n",
        "Over-dependence on a few brands can be a risk:\n",
        "*   If supply chain disruptions occur for those top brands, it could impact service quality.\n",
        "*   Might overlook rising or underutilized brands that have growth potential.\n",
        "\n",
        "**Business Action Justification:** Analyzing brand-wise delivery helps in strategic sourcing, risk mitigation, and optimizing vendor mix, which are all key for sustainable growth."
      ],
      "metadata": {
        "id": "5wwDJXsLp1cl"
      }
    },
    {
      "cell_type": "markdown",
      "source": [
        "#### Chart - *11* - Correlation Heatmap"
      ],
      "metadata": {
        "id": "NC_X3p0fY2L0"
      }
    },
    {
      "cell_type": "code",
      "source": [
        "# Select relevant numeric columns\n",
        "df1['Weight (Kilograms)'].unique()\n",
        "df1['Weight (Kilograms)'] = pd.to_numeric(df1['Weight (Kilograms)'], errors='coerce')\n",
        "numeric_cols = ['Line Item Quantity', 'Line Item Value', 'Pack Price', 'Unit Price',\n",
        "                'Weight (Kilograms)', 'Freight Cost (USD)', 'Line Item Insurance (USD)']\n",
        "\n",
        "# Ensure all are numeric\n",
        "for col in numeric_cols:\n",
        "    df1[col] = pd.to_numeric(df1[col], errors='coerce')\n",
        "    corr_data = df1[numeric_cols]\n",
        "corr_matrix = corr_data.corr()\n",
        "\n",
        "mplt.figure(figsize=(10, 8))\n",
        "sns.heatmap(corr_matrix, annot=True, cmap='coolwarm', fmt=\".2f\")\n",
        "mplt.title('Correlation Heatmap')\n",
        "mplt.show()"
      ],
      "metadata": {
        "id": "xyC9zolEZNRQ"
      },
      "execution_count": null,
      "outputs": []
    },
    {
      "cell_type": "markdown",
      "source": [
        "##### 1. Why did you pick the specific chart?"
      ],
      "metadata": {
        "id": "UV0SzAkaZNRQ"
      }
    },
    {
      "cell_type": "markdown",
      "source": [
        "A correlation heatmap was chosen because it:\n",
        "*   Visually summarizes the strength of relationships between multiple numerical features.\n",
        "*   Helps quickly identify strong positive/negative correlations among business variables like cost, weight, value, and price.\n",
        "*   It's one of the best tools in EDA for spotting patterns, trends, and possible multicollinearity.\n",
        "\n",
        "In your FedEx dataset, variables like Freight Cost (USD), Weight (Kilograms), Line Item Value, and Pack Price are continuous variables—perfect for correlation analysis."
      ],
      "metadata": {
        "id": "DVPuT8LYZNRQ"
      }
    },
    {
      "cell_type": "markdown",
      "source": [
        "##### 2. What is/are the insight(s) found from the chart?"
      ],
      "metadata": {
        "id": "YPEH6qLeZNRQ"
      }
    },
    {
      "cell_type": "markdown",
      "source": [
        "**Positive Correlation:**\n",
        "*   Weight (Kilograms) ↔ Freight Cost (USD) → High weight tends to increase shipping cost.\n",
        "*   Line Item Quantity ↔ Line Item Value → More quantity leads to higher value.\n",
        "\n",
        "**Weak/No Correlation:**\n",
        "\n",
        "   Unit Price and Freight Cost (USD) may show weak/no correlation — pricing may not impact shipping cost directly."
      ],
      "metadata": {
        "id": "bfSqtnDqZNRR"
      }
    },
    {
      "cell_type": "markdown",
      "source": [
        "#### Chart - 12 - Pair Plot"
      ],
      "metadata": {
        "id": "q29F0dvdveiT"
      }
    },
    {
      "cell_type": "code",
      "source": [
        "# Drop rows with any NaNs in selected columns to avoid plot errors\n",
        "df1_pair = df1[numeric_cols].dropna()\n",
        "# Pair Plot visualization code\n",
        "sns.pairplot(df1_pair)\n",
        "mplt.suptitle(\"Pair Plot of FedEx Delivery Data\", y=1.02)\n",
        "mplt.show()"
      ],
      "metadata": {
        "id": "o58-TEIhveiU"
      },
      "execution_count": null,
      "outputs": []
    },
    {
      "cell_type": "markdown",
      "source": [
        "##### 1. Why did you pick the specific chart?"
      ],
      "metadata": {
        "id": "EXh0U9oCveiU"
      }
    },
    {
      "cell_type": "markdown",
      "source": [
        "**A pair plot is ideal for:**\n",
        "*   Visualizing pairwise relationships among multiple numerical variables.\n",
        "*   Spotting patterns, correlations, and outliers in one consolidated view.\n",
        "*   Quickly identifying linear/non-linear trends and clusters.\n",
        "\n",
        "Since your dataset has multiple numerical columns like cost, quantity, weight, and insurance, a pair plot helps analyze how these variables interact with each other visually."
      ],
      "metadata": {
        "id": "eMmPjTByveiU"
      }
    },
    {
      "cell_type": "markdown",
      "source": [
        "##### 2. What is/are the insight(s) found from the chart?"
      ],
      "metadata": {
        "id": "22aHeOlLveiV"
      }
    },
    {
      "cell_type": "markdown",
      "source": [
        "Depending on your data, some common insights you might observe from the pair plot:\n",
        "\n",
        "**Positive Correlation between:**\n",
        "\n",
        " 1. Line Item Quantity and Line Item Value (more quantity → higher value).\n",
        "\n",
        " 2. Weight (Kilograms) and Freight Cost (USD) (heavier items → higher freight).\n",
        "\n",
        " 3. Pack Price and Unit Price (similar pricing trends).\n",
        "\n",
        "**Outliers might appear — such as:**\n",
        "\n",
        " 1. Exceptionally high freight cost for low-weight items.\n",
        "\n",
        " 2. Insurance costs unusually high for certain products.\n",
        "\n",
        "**Weak/No Correlation between unrelated features like:**\n",
        "\n",
        " Dosage and Freight Cost (if included, might show weak correlation)."
      ],
      "metadata": {
        "id": "uPQ8RGwHveiV"
      }
    },
    {
      "cell_type": "markdown",
      "source": [
        "## **5. Solution to Business Objective**"
      ],
      "metadata": {
        "id": "JcMwzZxoAimU"
      }
    },
    {
      "cell_type": "markdown",
      "source": [
        "#### What do you suggest the client to achieve Business Objective ?\n",
        "Explain Briefly."
      ],
      "metadata": {
        "id": "8G2x9gOozGDZ"
      }
    },
    {
      "cell_type": "markdown",
      "source": [
        "1. **Optimize Freight Cost Management**\n",
        "\n",
        "**Suggestion:** Reevaluate shipping modes and vendor contracts. Focus on reducing shipping costs by selecting more cost-effective carriers for specific regions or product types.\n",
        "\n",
        "**Action:** Identify shipments with high freight costs relative to weight or value. Consider consolidating shipments to reduce individual delivery costs.\n",
        "\n",
        "2. **Improve Shipment Planning and Delivery Timeliness**\n",
        "**Suggestion:** Analyze delivery delays and identify recurring patterns linked to specific vendors, shipment modes, or product types.\n",
        "\n",
        "**Action:** Prioritize faster shipping options for high-priority or time-sensitive shipments. For vendors with consistent delays, renegotiate terms or explore alternative vendors.\n",
        "\n",
        "3. **Enhance Vendor and Product Performance Analysis**\n",
        "**Suggestion:** Conduct a deeper analysis of vendor performance by tracking metrics like delivery times, shipment costs, and insurance rates.\n",
        "\n",
        "**Action:** Develop a vendor scorecard that evaluates their performance on key logistics metrics to optimize vendor selection for future shipments.\n",
        "\n",
        "4. **Leverage Data-Driven Pricing Strategy**\n",
        "**Suggestion:**Align pricing strategies with shipping and manufacturing costs. Consider adjusting unit and pack prices based on freight and insurance costs to improve profitability.\n",
        "\n",
        "**Action:** Implement dynamic pricing that reflects the total cost of shipment (freight + insurance) and adjusts based on product volume or shipment destination.\n",
        "\n",
        "5. **Automate Data-Driven Decision-Making**\n",
        "**Suggestion:**Implement a real-time analytics dashboard that continuously monitors key performance indicators (KPIs) such as shipment delays, costs, and vendor performance.\n",
        "\n",
        "**Action:** Use tools like Power BI or Tableau to provide operational teams with up-to-date insights for timely decision-making.\n",
        "\n",
        "6. **Address Outliers and Inefficiencies**\n",
        "**Suggestion:**Investigate outliers in freight costs and item quantities. Focus on eliminating inefficiencies like overpacking or underpacking, which may contribute to higher costs.\n",
        "\n",
        "**Action:**Optimize packaging processes to reduce excess weight and explore alternative shipping routes or methods for outlier shipments.\n",
        "\n"
      ],
      "metadata": {
        "id": "pASKb0qOza21"
      }
    },
    {
      "cell_type": "markdown",
      "source": [
        "# **Conclusion**"
      ],
      "metadata": {
        "id": "gCX9965dhzqZ"
      }
    },
    {
      "cell_type": "markdown",
      "source": [
        "The exploratory data analysis of FedEx's delivery history dataset has provided valuable insights into the relationships between key shipment variables such as weight, freight costs, delivery timelines, and vendor performance. Through data cleaning, manipulation, and visualization techniques using Python libraries like Pandas, Seaborn, and Plotly, we uncovered critical patterns that can drive more efficient logistics decisions.\n",
        "\n",
        "By identifying areas such as high freight costs relative to product value, recurring shipment delays, and inefficiencies in certain vendor contracts, this analysis lays the foundation for actionable improvements in FedEx's operations. The insights gained can be leveraged to optimize shipping strategies, enhance vendor performance, reduce operational costs, and improve overall delivery timeliness.\n",
        "\n",
        "Ultimately, the findings from this project offer a roadmap to achieve the business objective of improving logistics efficiency, cost management, and operational performance, ensuring that FedEx continues to meet customer expectations while maintaining profitability."
      ],
      "metadata": {
        "id": "Fjb1IsQkh3yE"
      }
    },
    {
      "cell_type": "markdown",
      "source": [
        "### ***Hurrah! You have successfully completed your EDA Capstone Project !!!***"
      ],
      "metadata": {
        "id": "gIfDvo9L0UH2"
      }
    },
    {
      "cell_type": "code",
      "source": [],
      "metadata": {
        "id": "dYX880etpL0x"
      },
      "execution_count": null,
      "outputs": []
    },
    {
      "cell_type": "code",
      "source": [],
      "metadata": {
        "id": "-6Vl263upPVI"
      },
      "execution_count": null,
      "outputs": []
    }
  ]
}